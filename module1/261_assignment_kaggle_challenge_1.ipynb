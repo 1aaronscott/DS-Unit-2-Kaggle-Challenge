{
  "nbformat": 4,
  "nbformat_minor": 0,
  "metadata": {
    "colab": {
      "name": "261 assignment_kaggle_challenge_1.ipynb",
      "version": "0.3.2",
      "provenance": [],
      "collapsed_sections": [],
      "include_colab_link": true
    },
    "kernelspec": {
      "name": "python3",
      "display_name": "Python 3"
    }
  },
  "cells": [
    {
      "cell_type": "markdown",
      "metadata": {
        "id": "view-in-github",
        "colab_type": "text"
      },
      "source": [
        "<a href=\"https://colab.research.google.com/github/1aaronscott/DS-Unit-2-Kaggle-Challenge/blob/master/module1/261_assignment_kaggle_challenge_1.ipynb\" target=\"_parent\"><img src=\"https://colab.research.google.com/assets/colab-badge.svg\" alt=\"Open In Colab\"/></a>"
      ]
    },
    {
      "cell_type": "markdown",
      "metadata": {
        "id": "7IXUfiQ2UKj6",
        "colab_type": "text"
      },
      "source": [
        "Lambda School Data Science, Unit 2: Predictive Modeling\n",
        "\n",
        "# Kaggle Challenge, Module 1\n",
        "\n",
        "## Assignment\n",
        "- [x] Do train/validate/test split with the Tanzania Waterpumps data.\n",
        "- [x] Define a function to wrangle train, validate, and test sets in the same way. Clean outliers and engineer features. (For example, [what other columns have zeros and shouldn't?](https://github.com/Quartz/bad-data-guide#zeros-replace-missing-values) What other columns are duplicates, or nearly duplicates? Can you extract the year from date_recorded? Can you engineer new features, such as the number of years from waterpump construction to waterpump inspection?)\n",
        "- [x] Select features. Use a scikit-learn pipeline to encode categoricals, impute missing values, and fit a decision tree classifier.\n",
        "- [x] Get your validation accuracy score.\n",
        "- [x] Get and plot your feature importances.\n",
        "- [x] Submit your predictions to our Kaggle competition. (Go to our Kaggle InClass competition webpage. Use the blue **Submit Predictions** button to upload your CSV file. Or you can use the Kaggle API to submit your predictions.)\n",
        "- [x] Commit your notebook to your fork of the GitHub repo.\n",
        "\n",
        "\n",
        "## Stretch Goals\n",
        "\n",
        "### Reading\n",
        "\n",
        "- A Visual Introduction to Machine Learning\n",
        "  - [Part 1: A Decision Tree](http://www.r2d3.us/visual-intro-to-machine-learning-part-1/)\n",
        "  - [Part 2: Bias and Variance](http://www.r2d3.us/visual-intro-to-machine-learning-part-2/)\n",
        "- [Decision Trees: Advantages & Disadvantages](https://christophm.github.io/interpretable-ml-book/tree.html#advantages-2)\n",
        "- [How a Russian mathematician constructed a decision tree — by hand — to solve a medical problem](http://fastml.com/how-a-russian-mathematician-constructed-a-decision-tree-by-hand-to-solve-a-medical-problem/)\n",
        "- [How decision trees work](https://brohrer.github.io/how_decision_trees_work.html)\n",
        "- [Let’s Write a Decision Tree Classifier from Scratch](https://www.youtube.com/watch?v=LDRbO9a6XPU) — _Don’t worry about understanding the code, just get introduced to the concepts. This 10 minute video has excellent diagrams and explanations._\n",
        "- [Random Forests for Complete Beginners: The definitive guide to Random Forests and Decision Trees](https://victorzhou.com/blog/intro-to-random-forests/)\n",
        "\n",
        "\n",
        "### Doing\n",
        "- [ ] Add your own stretch goal(s) !\n",
        "- [ ] Try other [scikit-learn imputers](https://scikit-learn.org/stable/modules/impute.html).\n",
        "- [ ] Try other [scikit-learn scalers](https://scikit-learn.org/stable/modules/preprocessing.html).\n",
        "- [ ] Make exploratory visualizations and share on Slack.\n",
        "\n",
        "\n",
        "#### Exploratory visualizations\n",
        "\n",
        "Visualize the relationships between feature(s) and target. I recommend you do this with your training set, after splitting your data. \n",
        "\n",
        "For this problem, you may want to create a new column to represent the target as a number, 0 or 1. For example:\n",
        "\n",
        "```python\n",
        "train['functional'] = (train['status_group']=='functional').astype(int)\n",
        "```\n",
        "\n",
        "\n",
        "\n",
        "You can try [Seaborn \"Categorical estimate\" plots](https://seaborn.pydata.org/tutorial/categorical.html) for features with reasonably few unique values. (With too many unique values, the plot is unreadable.)\n",
        "\n",
        "- Categorical features. (If there are too many unique values, you can replace less frequent values with \"OTHER.\")\n",
        "- Numeric features. (If there are too many unique values, you can [bin with pandas cut / qcut functions](https://pandas.pydata.org/pandas-docs/stable/getting_started/basics.html?highlight=qcut#discretization-and-quantiling).)\n",
        "\n",
        "You can try [Seaborn linear model plots](https://seaborn.pydata.org/tutorial/regression.html) with numeric features. For this problem, you may want to use the parameter `logistic=True`\n",
        "\n",
        "You do _not_ need to use Seaborn, but it's nice because it includes confidence intervals to visualize uncertainty.\n",
        "\n",
        "#### High-cardinality categoricals\n",
        "\n",
        "This code from a previous assignment demonstrates how to replace less frequent values with 'OTHER'\n",
        "\n",
        "```python\n",
        "# Reduce cardinality for NEIGHBORHOOD feature ...\n",
        "\n",
        "# Get a list of the top 10 neighborhoods\n",
        "top10 = train['NEIGHBORHOOD'].value_counts()[:10].index\n",
        "\n",
        "# At locations where the neighborhood is NOT in the top 10,\n",
        "# replace the neighborhood with 'OTHER'\n",
        "train.loc[~train['NEIGHBORHOOD'].isin(top10), 'NEIGHBORHOOD'] = 'OTHER'\n",
        "test.loc[~test['NEIGHBORHOOD'].isin(top10), 'NEIGHBORHOOD'] = 'OTHER'\n",
        "```\n",
        "\n"
      ]
    },
    {
      "cell_type": "code",
      "metadata": {
        "id": "o9eSnDYhUGD7",
        "colab_type": "code",
        "colab": {}
      },
      "source": [
        "# If you're in Colab...\n",
        "import os, sys\n",
        "in_colab = 'google.colab' in sys.modules\n",
        "\n",
        "if in_colab:\n",
        "    # Install required python packages:\n",
        "    # category_encoders, version >= 2.0\n",
        "    # pandas-profiling, version >= 2.0\n",
        "    # plotly, version >= 4.0\n",
        "    !pip install --upgrade category_encoders pandas-profiling plotly\n",
        "    \n",
        "    # Pull files from Github repo\n",
        "    os.chdir('/content')\n",
        "    !git init .\n",
        "    !git remote add origin https://github.com/LambdaSchool/DS-Unit-2-Kaggle-Challenge.git\n",
        "    !git pull origin master\n",
        "    \n",
        "    # Change into directory for module\n",
        "    os.chdir('module1')"
      ],
      "execution_count": 0,
      "outputs": []
    },
    {
      "cell_type": "code",
      "metadata": {
        "id": "h4r--NdUvqVu",
        "colab_type": "code",
        "colab": {}
      },
      "source": [
        ""
      ],
      "execution_count": 0,
      "outputs": []
    },
    {
      "cell_type": "code",
      "metadata": {
        "id": "QJBD4ruICm1m",
        "colab_type": "code",
        "outputId": "a6def7ad-438b-47ca-deb7-4f384fdda99d",
        "colab": {
          "base_uri": "https://localhost:8080/",
          "height": 34
        }
      },
      "source": [
        "import pandas as pd\n",
        "from sklearn.model_selection import train_test_split\n",
        "\n",
        "train = pd.merge(pd.read_csv('../data/tanzania/train_features.csv', parse_dates=True, infer_datetime_format=True), \n",
        "                 pd.read_csv('../data/tanzania/train_labels.csv', parse_dates=True, infer_datetime_format=True))\n",
        "test = pd.read_csv('../data/tanzania/test_features.csv', parse_dates=True, infer_datetime_format=True)\n",
        "sample_submission = pd.read_csv('../data/tanzania/sample_submission.csv', parse_dates=True, infer_datetime_format=True)\n",
        "\n",
        "train.shape, test.shape"
      ],
      "execution_count": 68,
      "outputs": [
        {
          "output_type": "execute_result",
          "data": {
            "text/plain": [
              "((59400, 41), (14358, 40))"
            ]
          },
          "metadata": {
            "tags": []
          },
          "execution_count": 68
        }
      ]
    },
    {
      "cell_type": "markdown",
      "metadata": {
        "id": "Pf6yagbRBjvl",
        "colab_type": "text"
      },
      "source": [
        "**Do train/validate/test split with the Tanzania Waterpumps data.**"
      ]
    },
    {
      "cell_type": "code",
      "metadata": {
        "id": "kCaCtP73qaps",
        "colab_type": "code",
        "outputId": "56a863df-a965-48e9-a96e-8cee5241da4e",
        "colab": {
          "base_uri": "https://localhost:8080/",
          "height": 34
        }
      },
      "source": [
        "train, validate = train_test_split(train, train_size=0.80, test_size=0.20, \n",
        "                              stratify=train['status_group'], random_state=42)\n",
        "train.shape, validate.shape, test.shape"
      ],
      "execution_count": 69,
      "outputs": [
        {
          "output_type": "execute_result",
          "data": {
            "text/plain": [
              "((47520, 41), (11880, 41), (14358, 40))"
            ]
          },
          "metadata": {
            "tags": []
          },
          "execution_count": 69
        }
      ]
    },
    {
      "cell_type": "code",
      "metadata": {
        "id": "uXArH2jurFUa",
        "colab_type": "code",
        "outputId": "b03c6dcf-9e92-4be8-8811-fbc08475b431",
        "colab": {
          "base_uri": "https://localhost:8080/",
          "height": 204
        }
      },
      "source": [
        "validate.columns"
      ],
      "execution_count": 43,
      "outputs": [
        {
          "output_type": "execute_result",
          "data": {
            "text/plain": [
              "Index(['id', 'amount_tsh', 'date_recorded', 'funder', 'gps_height',\n",
              "       'installer', 'longitude', 'latitude', 'wpt_name', 'num_private',\n",
              "       'basin', 'subvillage', 'region', 'region_code', 'district_code', 'lga',\n",
              "       'ward', 'population', 'public_meeting', 'recorded_by',\n",
              "       'scheme_management', 'scheme_name', 'permit', 'construction_year',\n",
              "       'extraction_type', 'extraction_type_group', 'extraction_type_class',\n",
              "       'management', 'management_group', 'payment', 'payment_type',\n",
              "       'water_quality', 'quality_group', 'quantity', 'quantity_group',\n",
              "       'source', 'source_type', 'source_class', 'waterpoint_type',\n",
              "       'waterpoint_type_group', 'status_group'],\n",
              "      dtype='object')"
            ]
          },
          "metadata": {
            "tags": []
          },
          "execution_count": 43
        }
      ]
    },
    {
      "cell_type": "code",
      "metadata": {
        "id": "JwhIbD-FrBQC",
        "colab_type": "code",
        "outputId": "a5b6135a-2268-417a-9200-99a00f8bd358",
        "colab": {
          "base_uri": "https://localhost:8080/",
          "height": 297
        }
      },
      "source": [
        "train.describe()"
      ],
      "execution_count": 12,
      "outputs": [
        {
          "output_type": "execute_result",
          "data": {
            "text/html": [
              "<div>\n",
              "<style scoped>\n",
              "    .dataframe tbody tr th:only-of-type {\n",
              "        vertical-align: middle;\n",
              "    }\n",
              "\n",
              "    .dataframe tbody tr th {\n",
              "        vertical-align: top;\n",
              "    }\n",
              "\n",
              "    .dataframe thead th {\n",
              "        text-align: right;\n",
              "    }\n",
              "</style>\n",
              "<table border=\"1\" class=\"dataframe\">\n",
              "  <thead>\n",
              "    <tr style=\"text-align: right;\">\n",
              "      <th></th>\n",
              "      <th>id</th>\n",
              "      <th>amount_tsh</th>\n",
              "      <th>gps_height</th>\n",
              "      <th>longitude</th>\n",
              "      <th>latitude</th>\n",
              "      <th>num_private</th>\n",
              "      <th>region_code</th>\n",
              "      <th>district_code</th>\n",
              "      <th>population</th>\n",
              "      <th>construction_year</th>\n",
              "    </tr>\n",
              "  </thead>\n",
              "  <tbody>\n",
              "    <tr>\n",
              "      <th>count</th>\n",
              "      <td>47520.000000</td>\n",
              "      <td>47520.000000</td>\n",
              "      <td>47520.000000</td>\n",
              "      <td>47520.000000</td>\n",
              "      <td>4.752000e+04</td>\n",
              "      <td>47520.000000</td>\n",
              "      <td>47520.000000</td>\n",
              "      <td>47520.000000</td>\n",
              "      <td>47520.000000</td>\n",
              "      <td>47520.000000</td>\n",
              "    </tr>\n",
              "    <tr>\n",
              "      <th>mean</th>\n",
              "      <td>37037.915699</td>\n",
              "      <td>321.925261</td>\n",
              "      <td>669.567656</td>\n",
              "      <td>34.082431</td>\n",
              "      <td>-5.705946e+00</td>\n",
              "      <td>0.477736</td>\n",
              "      <td>15.258291</td>\n",
              "      <td>5.616751</td>\n",
              "      <td>179.805513</td>\n",
              "      <td>1302.768939</td>\n",
              "    </tr>\n",
              "    <tr>\n",
              "      <th>std</th>\n",
              "      <td>21412.099719</td>\n",
              "      <td>3197.240487</td>\n",
              "      <td>693.005745</td>\n",
              "      <td>6.552053</td>\n",
              "      <td>2.941332e+00</td>\n",
              "      <td>13.312977</td>\n",
              "      <td>17.530228</td>\n",
              "      <td>9.621230</td>\n",
              "      <td>463.081564</td>\n",
              "      <td>950.955437</td>\n",
              "    </tr>\n",
              "    <tr>\n",
              "      <th>min</th>\n",
              "      <td>0.000000</td>\n",
              "      <td>0.000000</td>\n",
              "      <td>-63.000000</td>\n",
              "      <td>0.000000</td>\n",
              "      <td>-1.164944e+01</td>\n",
              "      <td>0.000000</td>\n",
              "      <td>1.000000</td>\n",
              "      <td>0.000000</td>\n",
              "      <td>0.000000</td>\n",
              "      <td>0.000000</td>\n",
              "    </tr>\n",
              "    <tr>\n",
              "      <th>25%</th>\n",
              "      <td>18482.750000</td>\n",
              "      <td>0.000000</td>\n",
              "      <td>0.000000</td>\n",
              "      <td>33.092142</td>\n",
              "      <td>-8.528215e+00</td>\n",
              "      <td>0.000000</td>\n",
              "      <td>5.000000</td>\n",
              "      <td>2.000000</td>\n",
              "      <td>0.000000</td>\n",
              "      <td>0.000000</td>\n",
              "    </tr>\n",
              "    <tr>\n",
              "      <th>50%</th>\n",
              "      <td>36986.500000</td>\n",
              "      <td>0.000000</td>\n",
              "      <td>372.500000</td>\n",
              "      <td>34.910740</td>\n",
              "      <td>-5.021436e+00</td>\n",
              "      <td>0.000000</td>\n",
              "      <td>12.000000</td>\n",
              "      <td>3.000000</td>\n",
              "      <td>25.000000</td>\n",
              "      <td>1986.000000</td>\n",
              "    </tr>\n",
              "    <tr>\n",
              "      <th>75%</th>\n",
              "      <td>55450.250000</td>\n",
              "      <td>25.000000</td>\n",
              "      <td>1320.000000</td>\n",
              "      <td>37.170578</td>\n",
              "      <td>-3.327185e+00</td>\n",
              "      <td>0.000000</td>\n",
              "      <td>17.000000</td>\n",
              "      <td>5.000000</td>\n",
              "      <td>215.000000</td>\n",
              "      <td>2004.000000</td>\n",
              "    </tr>\n",
              "    <tr>\n",
              "      <th>max</th>\n",
              "      <td>74247.000000</td>\n",
              "      <td>350000.000000</td>\n",
              "      <td>2770.000000</td>\n",
              "      <td>40.344301</td>\n",
              "      <td>-2.000000e-08</td>\n",
              "      <td>1776.000000</td>\n",
              "      <td>99.000000</td>\n",
              "      <td>80.000000</td>\n",
              "      <td>15300.000000</td>\n",
              "      <td>2013.000000</td>\n",
              "    </tr>\n",
              "  </tbody>\n",
              "</table>\n",
              "</div>"
            ],
            "text/plain": [
              "                 id     amount_tsh  ...    population  construction_year\n",
              "count  47520.000000   47520.000000  ...  47520.000000       47520.000000\n",
              "mean   37037.915699     321.925261  ...    179.805513        1302.768939\n",
              "std    21412.099719    3197.240487  ...    463.081564         950.955437\n",
              "min        0.000000       0.000000  ...      0.000000           0.000000\n",
              "25%    18482.750000       0.000000  ...      0.000000           0.000000\n",
              "50%    36986.500000       0.000000  ...     25.000000        1986.000000\n",
              "75%    55450.250000      25.000000  ...    215.000000        2004.000000\n",
              "max    74247.000000  350000.000000  ...  15300.000000        2013.000000\n",
              "\n",
              "[8 rows x 10 columns]"
            ]
          },
          "metadata": {
            "tags": []
          },
          "execution_count": 12
        }
      ]
    },
    {
      "cell_type": "code",
      "metadata": {
        "id": "q8-udXwqrJ3x",
        "colab_type": "code",
        "outputId": "3cdbd3ee-ba4b-4058-fd4b-9c14150e7a91",
        "colab": {
          "base_uri": "https://localhost:8080/",
          "height": 227
        }
      },
      "source": [
        "train.describe(exclude='number')"
      ],
      "execution_count": 13,
      "outputs": [
        {
          "output_type": "execute_result",
          "data": {
            "text/html": [
              "<div>\n",
              "<style scoped>\n",
              "    .dataframe tbody tr th:only-of-type {\n",
              "        vertical-align: middle;\n",
              "    }\n",
              "\n",
              "    .dataframe tbody tr th {\n",
              "        vertical-align: top;\n",
              "    }\n",
              "\n",
              "    .dataframe thead th {\n",
              "        text-align: right;\n",
              "    }\n",
              "</style>\n",
              "<table border=\"1\" class=\"dataframe\">\n",
              "  <thead>\n",
              "    <tr style=\"text-align: right;\">\n",
              "      <th></th>\n",
              "      <th>date_recorded</th>\n",
              "      <th>funder</th>\n",
              "      <th>installer</th>\n",
              "      <th>wpt_name</th>\n",
              "      <th>basin</th>\n",
              "      <th>subvillage</th>\n",
              "      <th>region</th>\n",
              "      <th>lga</th>\n",
              "      <th>ward</th>\n",
              "      <th>public_meeting</th>\n",
              "      <th>recorded_by</th>\n",
              "      <th>scheme_management</th>\n",
              "      <th>scheme_name</th>\n",
              "      <th>permit</th>\n",
              "      <th>extraction_type</th>\n",
              "      <th>extraction_type_group</th>\n",
              "      <th>extraction_type_class</th>\n",
              "      <th>management</th>\n",
              "      <th>management_group</th>\n",
              "      <th>payment</th>\n",
              "      <th>payment_type</th>\n",
              "      <th>water_quality</th>\n",
              "      <th>quality_group</th>\n",
              "      <th>quantity</th>\n",
              "      <th>quantity_group</th>\n",
              "      <th>source</th>\n",
              "      <th>source_type</th>\n",
              "      <th>source_class</th>\n",
              "      <th>waterpoint_type</th>\n",
              "      <th>waterpoint_type_group</th>\n",
              "      <th>status_group</th>\n",
              "    </tr>\n",
              "  </thead>\n",
              "  <tbody>\n",
              "    <tr>\n",
              "      <th>count</th>\n",
              "      <td>47520</td>\n",
              "      <td>44616</td>\n",
              "      <td>44603</td>\n",
              "      <td>47520</td>\n",
              "      <td>47520</td>\n",
              "      <td>47234</td>\n",
              "      <td>47520</td>\n",
              "      <td>47520</td>\n",
              "      <td>47520</td>\n",
              "      <td>44876</td>\n",
              "      <td>47520</td>\n",
              "      <td>44392</td>\n",
              "      <td>24988</td>\n",
              "      <td>45077</td>\n",
              "      <td>47520</td>\n",
              "      <td>47520</td>\n",
              "      <td>47520</td>\n",
              "      <td>47520</td>\n",
              "      <td>47520</td>\n",
              "      <td>47520</td>\n",
              "      <td>47520</td>\n",
              "      <td>47520</td>\n",
              "      <td>47520</td>\n",
              "      <td>47520</td>\n",
              "      <td>47520</td>\n",
              "      <td>47520</td>\n",
              "      <td>47520</td>\n",
              "      <td>47520</td>\n",
              "      <td>47520</td>\n",
              "      <td>47520</td>\n",
              "      <td>47520</td>\n",
              "    </tr>\n",
              "    <tr>\n",
              "      <th>unique</th>\n",
              "      <td>349</td>\n",
              "      <td>1716</td>\n",
              "      <td>1929</td>\n",
              "      <td>30661</td>\n",
              "      <td>9</td>\n",
              "      <td>17231</td>\n",
              "      <td>21</td>\n",
              "      <td>124</td>\n",
              "      <td>2082</td>\n",
              "      <td>2</td>\n",
              "      <td>1</td>\n",
              "      <td>12</td>\n",
              "      <td>2563</td>\n",
              "      <td>2</td>\n",
              "      <td>18</td>\n",
              "      <td>13</td>\n",
              "      <td>7</td>\n",
              "      <td>12</td>\n",
              "      <td>5</td>\n",
              "      <td>7</td>\n",
              "      <td>7</td>\n",
              "      <td>8</td>\n",
              "      <td>6</td>\n",
              "      <td>5</td>\n",
              "      <td>5</td>\n",
              "      <td>10</td>\n",
              "      <td>7</td>\n",
              "      <td>3</td>\n",
              "      <td>7</td>\n",
              "      <td>6</td>\n",
              "      <td>3</td>\n",
              "    </tr>\n",
              "    <tr>\n",
              "      <th>top</th>\n",
              "      <td>2011-03-17</td>\n",
              "      <td>Government Of Tanzania</td>\n",
              "      <td>DWE</td>\n",
              "      <td>none</td>\n",
              "      <td>Lake Victoria</td>\n",
              "      <td>Shuleni</td>\n",
              "      <td>Iringa</td>\n",
              "      <td>Njombe</td>\n",
              "      <td>Igosi</td>\n",
              "      <td>True</td>\n",
              "      <td>GeoData Consultants Ltd</td>\n",
              "      <td>VWC</td>\n",
              "      <td>K</td>\n",
              "      <td>True</td>\n",
              "      <td>gravity</td>\n",
              "      <td>gravity</td>\n",
              "      <td>gravity</td>\n",
              "      <td>vwc</td>\n",
              "      <td>user-group</td>\n",
              "      <td>never pay</td>\n",
              "      <td>never pay</td>\n",
              "      <td>soft</td>\n",
              "      <td>good</td>\n",
              "      <td>enough</td>\n",
              "      <td>enough</td>\n",
              "      <td>spring</td>\n",
              "      <td>spring</td>\n",
              "      <td>groundwater</td>\n",
              "      <td>communal standpipe</td>\n",
              "      <td>communal standpipe</td>\n",
              "      <td>functional</td>\n",
              "    </tr>\n",
              "    <tr>\n",
              "      <th>freq</th>\n",
              "      <td>474</td>\n",
              "      <td>7321</td>\n",
              "      <td>13978</td>\n",
              "      <td>2879</td>\n",
              "      <td>8137</td>\n",
              "      <td>420</td>\n",
              "      <td>4250</td>\n",
              "      <td>2003</td>\n",
              "      <td>257</td>\n",
              "      <td>40838</td>\n",
              "      <td>47520</td>\n",
              "      <td>29470</td>\n",
              "      <td>548</td>\n",
              "      <td>31071</td>\n",
              "      <td>21448</td>\n",
              "      <td>21448</td>\n",
              "      <td>21448</td>\n",
              "      <td>32449</td>\n",
              "      <td>42027</td>\n",
              "      <td>20287</td>\n",
              "      <td>20287</td>\n",
              "      <td>40598</td>\n",
              "      <td>40598</td>\n",
              "      <td>26567</td>\n",
              "      <td>26567</td>\n",
              "      <td>13620</td>\n",
              "      <td>13620</td>\n",
              "      <td>36638</td>\n",
              "      <td>22778</td>\n",
              "      <td>27642</td>\n",
              "      <td>25807</td>\n",
              "    </tr>\n",
              "  </tbody>\n",
              "</table>\n",
              "</div>"
            ],
            "text/plain": [
              "       date_recorded                  funder  ... waterpoint_type_group status_group\n",
              "count          47520                   44616  ...                 47520        47520\n",
              "unique           349                    1716  ...                     6            3\n",
              "top       2011-03-17  Government Of Tanzania  ...    communal standpipe   functional\n",
              "freq             474                    7321  ...                 27642        25807\n",
              "\n",
              "[4 rows x 31 columns]"
            ]
          },
          "metadata": {
            "tags": []
          },
          "execution_count": 13
        }
      ]
    },
    {
      "cell_type": "code",
      "metadata": {
        "id": "Hjik66PJsJdv",
        "colab_type": "code",
        "outputId": "ebc0ea45-c6dd-478c-a78e-d1a2998064ee",
        "colab": {
          "base_uri": "https://localhost:8080/",
          "height": 731
        }
      },
      "source": [
        "train.dtypes"
      ],
      "execution_count": 16,
      "outputs": [
        {
          "output_type": "execute_result",
          "data": {
            "text/plain": [
              "id                                int64\n",
              "amount_tsh                      float64\n",
              "date_recorded            datetime64[ns]\n",
              "funder                           object\n",
              "gps_height                        int64\n",
              "installer                        object\n",
              "longitude                       float64\n",
              "latitude                        float64\n",
              "wpt_name                         object\n",
              "num_private                       int64\n",
              "basin                            object\n",
              "subvillage                       object\n",
              "region                           object\n",
              "region_code                       int64\n",
              "district_code                     int64\n",
              "lga                              object\n",
              "ward                             object\n",
              "population                        int64\n",
              "public_meeting                   object\n",
              "recorded_by                      object\n",
              "scheme_management                object\n",
              "scheme_name                      object\n",
              "permit                           object\n",
              "construction_year                 int64\n",
              "extraction_type                  object\n",
              "extraction_type_group            object\n",
              "extraction_type_class            object\n",
              "management                       object\n",
              "management_group                 object\n",
              "payment                          object\n",
              "payment_type                     object\n",
              "water_quality                    object\n",
              "quality_group                    object\n",
              "quantity                         object\n",
              "quantity_group                   object\n",
              "source                           object\n",
              "source_type                      object\n",
              "source_class                     object\n",
              "waterpoint_type                  object\n",
              "waterpoint_type_group            object\n",
              "status_group                     object\n",
              "dtype: object"
            ]
          },
          "metadata": {
            "tags": []
          },
          "execution_count": 16
        }
      ]
    },
    {
      "cell_type": "code",
      "metadata": {
        "id": "E6IAtacHtwYs",
        "colab_type": "code",
        "colab": {}
      },
      "source": [
        "train.date_recorded = pd.to_datetime(train.date_recorded)"
      ],
      "execution_count": 0,
      "outputs": []
    },
    {
      "cell_type": "markdown",
      "metadata": {
        "id": "o2ADCta5Bt60",
        "colab_type": "text"
      },
      "source": [
        "**Define a function to wrangle train, validate, and test sets in the same way. Clean outliers and engineer features.**"
      ]
    },
    {
      "cell_type": "code",
      "metadata": {
        "id": "w5eMzZ6eqitV",
        "colab_type": "code",
        "colab": {}
      },
      "source": [
        "import numpy as np\n",
        "\n",
        "def cleaner(X):\n",
        "    # stop SettingWithCopyWarning\n",
        "    X = X.copy()\n",
        "    \n",
        "    # About 3% of the time, latitude has small values near zero,\n",
        "    # outside Tanzania, so we'll treat these values like zero.\n",
        "    X['latitude'] = X['latitude'].replace(-2e-08, 0)\n",
        "    \n",
        "    # When columns have zeros and shouldn't, they are like null values.\n",
        "    # So we will replace the zeros with nulls, and impute missing values later.\n",
        "    cols_with_zeros = ['longitude', 'latitude', 'construction_year', 'district_code']\n",
        "    for col in cols_with_zeros:\n",
        "        X[col] = X[col].replace(0, np.nan)\n",
        "            \n",
        "    # quantity & quantity_group are duplicates, so drop one\n",
        "    # X = X.drop(columns='quantity_group')\n",
        "    X = X.drop(columns=['quantity_group', 'installer', 'extraction_type_group', \n",
        "                        'extraction_type_class', 'payment_type', 'waterpoint_type_group'])\n",
        "    #removing columns negatively impacts validation accuracy\n",
        "\n",
        "    #convert date_recorded to datetime\n",
        "    X['date_recorded'] = pd.to_datetime(X.date_recorded)\n",
        "\n",
        "    #create a new feature for pump_age\n",
        "    X['pump_age'] = X.date_recorded.dt.year - X.construction_year\n",
        "    \n",
        "    # return the wrangled dataframe\n",
        "    return X\n",
        "\n"
      ],
      "execution_count": 0,
      "outputs": []
    },
    {
      "cell_type": "markdown",
      "metadata": {
        "id": "Vs_8ACfY0_b8",
        "colab_type": "text"
      },
      "source": [
        "possible dupe columns:\n",
        "funder/installer\n",
        "\n",
        "extraction_type/extraction_type_group/exracion_type_class\n",
        "\n",
        "payment/payment_type\n",
        "\n",
        "waterpoint_type/waterpoint_type_group\n",
        "\n"
      ]
    },
    {
      "cell_type": "code",
      "metadata": {
        "id": "JgzJ1DZJun9o",
        "colab_type": "code",
        "colab": {}
      },
      "source": [
        "train = cleaner(train)\n",
        "validate = cleaner(validate)\n",
        "test = cleaner(test)"
      ],
      "execution_count": 0,
      "outputs": []
    },
    {
      "cell_type": "code",
      "metadata": {
        "id": "CEHXX0-PSQTx",
        "colab_type": "code",
        "colab": {
          "base_uri": "https://localhost:8080/",
          "height": 34
        },
        "outputId": "acd793c2-f02c-4f9a-bbd5-40e1be7d534e"
      },
      "source": [
        "train.shape, validate.shape, test.shape"
      ],
      "execution_count": 72,
      "outputs": [
        {
          "output_type": "execute_result",
          "data": {
            "text/plain": [
              "((47520, 36), (11880, 36), (14358, 35))"
            ]
          },
          "metadata": {
            "tags": []
          },
          "execution_count": 72
        }
      ]
    },
    {
      "cell_type": "code",
      "metadata": {
        "id": "hm47vpukzHNA",
        "colab_type": "code",
        "colab": {
          "base_uri": "https://localhost:8080/",
          "height": 394
        },
        "outputId": "224f7cbf-3beb-4eef-b82b-9f9cf0ff8c14"
      },
      "source": [
        "train.head()"
      ],
      "execution_count": 45,
      "outputs": [
        {
          "output_type": "execute_result",
          "data": {
            "text/html": [
              "<div>\n",
              "<style scoped>\n",
              "    .dataframe tbody tr th:only-of-type {\n",
              "        vertical-align: middle;\n",
              "    }\n",
              "\n",
              "    .dataframe tbody tr th {\n",
              "        vertical-align: top;\n",
              "    }\n",
              "\n",
              "    .dataframe thead th {\n",
              "        text-align: right;\n",
              "    }\n",
              "</style>\n",
              "<table border=\"1\" class=\"dataframe\">\n",
              "  <thead>\n",
              "    <tr style=\"text-align: right;\">\n",
              "      <th></th>\n",
              "      <th>id</th>\n",
              "      <th>amount_tsh</th>\n",
              "      <th>date_recorded</th>\n",
              "      <th>funder</th>\n",
              "      <th>gps_height</th>\n",
              "      <th>installer</th>\n",
              "      <th>longitude</th>\n",
              "      <th>latitude</th>\n",
              "      <th>wpt_name</th>\n",
              "      <th>num_private</th>\n",
              "      <th>basin</th>\n",
              "      <th>subvillage</th>\n",
              "      <th>region</th>\n",
              "      <th>region_code</th>\n",
              "      <th>district_code</th>\n",
              "      <th>lga</th>\n",
              "      <th>ward</th>\n",
              "      <th>population</th>\n",
              "      <th>public_meeting</th>\n",
              "      <th>recorded_by</th>\n",
              "      <th>scheme_management</th>\n",
              "      <th>scheme_name</th>\n",
              "      <th>permit</th>\n",
              "      <th>construction_year</th>\n",
              "      <th>extraction_type</th>\n",
              "      <th>extraction_type_group</th>\n",
              "      <th>extraction_type_class</th>\n",
              "      <th>management</th>\n",
              "      <th>management_group</th>\n",
              "      <th>payment</th>\n",
              "      <th>payment_type</th>\n",
              "      <th>water_quality</th>\n",
              "      <th>quality_group</th>\n",
              "      <th>quantity</th>\n",
              "      <th>quantity_group</th>\n",
              "      <th>source</th>\n",
              "      <th>source_type</th>\n",
              "      <th>source_class</th>\n",
              "      <th>waterpoint_type</th>\n",
              "      <th>waterpoint_type_group</th>\n",
              "      <th>status_group</th>\n",
              "    </tr>\n",
              "  </thead>\n",
              "  <tbody>\n",
              "    <tr>\n",
              "      <th>43360</th>\n",
              "      <td>72938</td>\n",
              "      <td>0.0</td>\n",
              "      <td>2011-07-27</td>\n",
              "      <td>NaN</td>\n",
              "      <td>0</td>\n",
              "      <td>NaN</td>\n",
              "      <td>33.542898</td>\n",
              "      <td>-9.174777</td>\n",
              "      <td>Kwa Mzee Noa</td>\n",
              "      <td>0</td>\n",
              "      <td>Lake Nyasa</td>\n",
              "      <td>Mpandapanda</td>\n",
              "      <td>Mbeya</td>\n",
              "      <td>12</td>\n",
              "      <td>4</td>\n",
              "      <td>Rungwe</td>\n",
              "      <td>Kiwira</td>\n",
              "      <td>0</td>\n",
              "      <td>True</td>\n",
              "      <td>GeoData Consultants Ltd</td>\n",
              "      <td>VWC</td>\n",
              "      <td>K</td>\n",
              "      <td>NaN</td>\n",
              "      <td>0</td>\n",
              "      <td>gravity</td>\n",
              "      <td>gravity</td>\n",
              "      <td>gravity</td>\n",
              "      <td>vwc</td>\n",
              "      <td>user-group</td>\n",
              "      <td>never pay</td>\n",
              "      <td>never pay</td>\n",
              "      <td>soft</td>\n",
              "      <td>good</td>\n",
              "      <td>insufficient</td>\n",
              "      <td>insufficient</td>\n",
              "      <td>spring</td>\n",
              "      <td>spring</td>\n",
              "      <td>groundwater</td>\n",
              "      <td>communal standpipe</td>\n",
              "      <td>communal standpipe</td>\n",
              "      <td>functional</td>\n",
              "    </tr>\n",
              "    <tr>\n",
              "      <th>7263</th>\n",
              "      <td>65358</td>\n",
              "      <td>500.0</td>\n",
              "      <td>2011-03-23</td>\n",
              "      <td>Rc Church</td>\n",
              "      <td>2049</td>\n",
              "      <td>ACRA</td>\n",
              "      <td>34.665760</td>\n",
              "      <td>-9.308548</td>\n",
              "      <td>Kwa Yasinta Ng'Ande</td>\n",
              "      <td>0</td>\n",
              "      <td>Rufiji</td>\n",
              "      <td>Kitichi</td>\n",
              "      <td>Iringa</td>\n",
              "      <td>11</td>\n",
              "      <td>4</td>\n",
              "      <td>Njombe</td>\n",
              "      <td>Imalinyi</td>\n",
              "      <td>175</td>\n",
              "      <td>True</td>\n",
              "      <td>GeoData Consultants Ltd</td>\n",
              "      <td>WUA</td>\n",
              "      <td>Tove Mtwango gravity Scheme</td>\n",
              "      <td>True</td>\n",
              "      <td>2008</td>\n",
              "      <td>gravity</td>\n",
              "      <td>gravity</td>\n",
              "      <td>gravity</td>\n",
              "      <td>wua</td>\n",
              "      <td>user-group</td>\n",
              "      <td>pay monthly</td>\n",
              "      <td>monthly</td>\n",
              "      <td>soft</td>\n",
              "      <td>good</td>\n",
              "      <td>enough</td>\n",
              "      <td>enough</td>\n",
              "      <td>spring</td>\n",
              "      <td>spring</td>\n",
              "      <td>groundwater</td>\n",
              "      <td>communal standpipe</td>\n",
              "      <td>communal standpipe</td>\n",
              "      <td>functional</td>\n",
              "    </tr>\n",
              "    <tr>\n",
              "      <th>2486</th>\n",
              "      <td>469</td>\n",
              "      <td>25.0</td>\n",
              "      <td>2011-03-07</td>\n",
              "      <td>Donor</td>\n",
              "      <td>290</td>\n",
              "      <td>Do</td>\n",
              "      <td>38.238568</td>\n",
              "      <td>-6.179919</td>\n",
              "      <td>Kwasungwini</td>\n",
              "      <td>0</td>\n",
              "      <td>Wami / Ruvu</td>\n",
              "      <td>Kwedigongo</td>\n",
              "      <td>Pwani</td>\n",
              "      <td>6</td>\n",
              "      <td>1</td>\n",
              "      <td>Bagamoyo</td>\n",
              "      <td>Mbwewe</td>\n",
              "      <td>2300</td>\n",
              "      <td>True</td>\n",
              "      <td>GeoData Consultants Ltd</td>\n",
              "      <td>VWC</td>\n",
              "      <td>NaN</td>\n",
              "      <td>False</td>\n",
              "      <td>2010</td>\n",
              "      <td>india mark ii</td>\n",
              "      <td>india mark ii</td>\n",
              "      <td>handpump</td>\n",
              "      <td>vwc</td>\n",
              "      <td>user-group</td>\n",
              "      <td>pay per bucket</td>\n",
              "      <td>per bucket</td>\n",
              "      <td>salty</td>\n",
              "      <td>salty</td>\n",
              "      <td>insufficient</td>\n",
              "      <td>insufficient</td>\n",
              "      <td>shallow well</td>\n",
              "      <td>shallow well</td>\n",
              "      <td>groundwater</td>\n",
              "      <td>hand pump</td>\n",
              "      <td>hand pump</td>\n",
              "      <td>functional</td>\n",
              "    </tr>\n",
              "    <tr>\n",
              "      <th>313</th>\n",
              "      <td>1298</td>\n",
              "      <td>0.0</td>\n",
              "      <td>2011-07-31</td>\n",
              "      <td>Government Of Tanzania</td>\n",
              "      <td>0</td>\n",
              "      <td>DWE</td>\n",
              "      <td>30.716727</td>\n",
              "      <td>-1.289055</td>\n",
              "      <td>Kwajovin 2</td>\n",
              "      <td>0</td>\n",
              "      <td>Lake Victoria</td>\n",
              "      <td>Kihanga</td>\n",
              "      <td>Kagera</td>\n",
              "      <td>18</td>\n",
              "      <td>1</td>\n",
              "      <td>Karagwe</td>\n",
              "      <td>Isingiro</td>\n",
              "      <td>0</td>\n",
              "      <td>True</td>\n",
              "      <td>GeoData Consultants Ltd</td>\n",
              "      <td>NaN</td>\n",
              "      <td>NaN</td>\n",
              "      <td>True</td>\n",
              "      <td>0</td>\n",
              "      <td>other</td>\n",
              "      <td>other</td>\n",
              "      <td>other</td>\n",
              "      <td>vwc</td>\n",
              "      <td>user-group</td>\n",
              "      <td>never pay</td>\n",
              "      <td>never pay</td>\n",
              "      <td>soft</td>\n",
              "      <td>good</td>\n",
              "      <td>enough</td>\n",
              "      <td>enough</td>\n",
              "      <td>shallow well</td>\n",
              "      <td>shallow well</td>\n",
              "      <td>groundwater</td>\n",
              "      <td>other</td>\n",
              "      <td>other</td>\n",
              "      <td>non functional</td>\n",
              "    </tr>\n",
              "    <tr>\n",
              "      <th>52726</th>\n",
              "      <td>27001</td>\n",
              "      <td>0.0</td>\n",
              "      <td>2011-03-10</td>\n",
              "      <td>Water</td>\n",
              "      <td>0</td>\n",
              "      <td>Gove</td>\n",
              "      <td>35.389331</td>\n",
              "      <td>-6.399942</td>\n",
              "      <td>Chama</td>\n",
              "      <td>0</td>\n",
              "      <td>Internal</td>\n",
              "      <td>Mtakuj</td>\n",
              "      <td>Dodoma</td>\n",
              "      <td>1</td>\n",
              "      <td>6</td>\n",
              "      <td>Bahi</td>\n",
              "      <td>Nondwa</td>\n",
              "      <td>0</td>\n",
              "      <td>True</td>\n",
              "      <td>GeoData Consultants Ltd</td>\n",
              "      <td>VWC</td>\n",
              "      <td>Zeje</td>\n",
              "      <td>True</td>\n",
              "      <td>0</td>\n",
              "      <td>mono</td>\n",
              "      <td>mono</td>\n",
              "      <td>motorpump</td>\n",
              "      <td>vwc</td>\n",
              "      <td>user-group</td>\n",
              "      <td>pay per bucket</td>\n",
              "      <td>per bucket</td>\n",
              "      <td>soft</td>\n",
              "      <td>good</td>\n",
              "      <td>enough</td>\n",
              "      <td>enough</td>\n",
              "      <td>machine dbh</td>\n",
              "      <td>borehole</td>\n",
              "      <td>groundwater</td>\n",
              "      <td>communal standpipe</td>\n",
              "      <td>communal standpipe</td>\n",
              "      <td>functional</td>\n",
              "    </tr>\n",
              "  </tbody>\n",
              "</table>\n",
              "</div>"
            ],
            "text/plain": [
              "          id  amount_tsh  ... waterpoint_type_group    status_group\n",
              "43360  72938         0.0  ...    communal standpipe      functional\n",
              "7263   65358       500.0  ...    communal standpipe      functional\n",
              "2486     469        25.0  ...             hand pump      functional\n",
              "313     1298         0.0  ...                 other  non functional\n",
              "52726  27001         0.0  ...    communal standpipe      functional\n",
              "\n",
              "[5 rows x 41 columns]"
            ]
          },
          "metadata": {
            "tags": []
          },
          "execution_count": 45
        }
      ]
    },
    {
      "cell_type": "code",
      "metadata": {
        "id": "G1sjY11p0H6m",
        "colab_type": "code",
        "colab": {
          "base_uri": "https://localhost:8080/",
          "height": 731
        },
        "outputId": "2a5e8ceb-6bb9-48bb-adaa-b2c67e464ac6"
      },
      "source": [
        "train.isnull().sum()"
      ],
      "execution_count": 37,
      "outputs": [
        {
          "output_type": "execute_result",
          "data": {
            "text/plain": [
              "id                           0\n",
              "amount_tsh                   0\n",
              "date_recorded                0\n",
              "funder                    3635\n",
              "gps_height                   0\n",
              "installer                 3655\n",
              "longitude                 1812\n",
              "latitude                  1812\n",
              "wpt_name                     0\n",
              "num_private                  0\n",
              "basin                        0\n",
              "subvillage                 371\n",
              "region                       0\n",
              "region_code                  0\n",
              "district_code               23\n",
              "lga                          0\n",
              "ward                         0\n",
              "population                   0\n",
              "public_meeting            3334\n",
              "recorded_by                  0\n",
              "scheme_management         3877\n",
              "scheme_name              28166\n",
              "permit                    3056\n",
              "construction_year        20709\n",
              "extraction_type              0\n",
              "extraction_type_group        0\n",
              "extraction_type_class        0\n",
              "management                   0\n",
              "management_group             0\n",
              "payment                      0\n",
              "payment_type                 0\n",
              "water_quality                0\n",
              "quality_group                0\n",
              "quantity                     0\n",
              "source                       0\n",
              "source_type                  0\n",
              "source_class                 0\n",
              "waterpoint_type              0\n",
              "waterpoint_type_group        0\n",
              "status_group                 0\n",
              "pump_age                 20709\n",
              "dtype: int64"
            ]
          },
          "metadata": {
            "tags": []
          },
          "execution_count": 37
        }
      ]
    },
    {
      "cell_type": "markdown",
      "metadata": {
        "id": "CZDRZF7kB-jT",
        "colab_type": "text"
      },
      "source": [
        "**Select features. Use a scikit-learn pipeline to encode categoricals, impute missing values, and fit a decision tree classifier.**"
      ]
    },
    {
      "cell_type": "code",
      "metadata": {
        "id": "wo_9IEDL0SjB",
        "colab_type": "code",
        "colab": {
          "base_uri": "https://localhost:8080/",
          "height": 54
        },
        "outputId": "ab350fd0-aa3d-49b2-e149-d923f2039cfc"
      },
      "source": [
        "#exclude the target column\n",
        "target = 'status_group'\n",
        "\n",
        "# remove target and id columns\n",
        "train_features = train.drop(columns=[target, 'id'])\n",
        "\n",
        "# list of only the numeric features\n",
        "numeric_features = train_features.select_dtypes(include='number').columns.tolist()\n",
        "\n",
        "# Get a series with the cardinality of the categorical features\n",
        "cardinality = train_features.select_dtypes(exclude='number').nunique()\n",
        "\n",
        "# all categorical features with cardinality <= 50\n",
        "categorical_features = cardinality[cardinality <= 50].index.tolist()\n",
        "\n",
        "# Combine the lists \n",
        "features = numeric_features + categorical_features\n",
        "print(features)"
      ],
      "execution_count": 73,
      "outputs": [
        {
          "output_type": "stream",
          "text": [
            "['amount_tsh', 'gps_height', 'longitude', 'latitude', 'num_private', 'region_code', 'district_code', 'population', 'construction_year', 'pump_age', 'basin', 'region', 'public_meeting', 'recorded_by', 'scheme_management', 'permit', 'extraction_type', 'management', 'management_group', 'payment', 'water_quality', 'quality_group', 'quantity', 'source', 'source_type', 'source_class', 'waterpoint_type']\n"
          ],
          "name": "stdout"
        }
      ]
    },
    {
      "cell_type": "code",
      "metadata": {
        "id": "sQapV7R33Vds",
        "colab_type": "code",
        "colab": {}
      },
      "source": [
        "# Arrange data into X features matrices and y target vectors\n",
        "X_train = train[features]\n",
        "y_train = train[target]\n",
        "X_validate = validate[features]\n",
        "y_validate = validate[target]\n",
        "X_test = test[features]"
      ],
      "execution_count": 0,
      "outputs": []
    },
    {
      "cell_type": "code",
      "metadata": {
        "id": "8EhSQ7iO3c71",
        "colab_type": "code",
        "colab": {
          "base_uri": "https://localhost:8080/",
          "height": 408
        },
        "outputId": "86917a91-9505-42f3-d536-fa473593f386"
      },
      "source": [
        "import category_encoders as ce\n",
        "from sklearn.impute import SimpleImputer\n",
        "from sklearn.linear_model import LogisticRegression\n",
        "from sklearn.pipeline import make_pipeline\n",
        "from sklearn.preprocessing import StandardScaler\n",
        "from sklearn.tree import DecisionTreeClassifier\n",
        "\n",
        "\n",
        "decision_tree = make_pipeline(\n",
        "    ce.OneHotEncoder(use_cat_names=True), \n",
        "    SimpleImputer(), \n",
        "    StandardScaler(), \n",
        "    DecisionTreeClassifier(random_state=42)\n",
        ")\n",
        "\n",
        "# Fit on train\n",
        "decision_tree.fit(X_train, y_train)"
      ],
      "execution_count": 75,
      "outputs": [
        {
          "output_type": "execute_result",
          "data": {
            "text/plain": [
              "Pipeline(memory=None,\n",
              "         steps=[('onehotencoder',\n",
              "                 OneHotEncoder(cols=['basin', 'region', 'public_meeting',\n",
              "                                     'recorded_by', 'scheme_management',\n",
              "                                     'permit', 'extraction_type', 'management',\n",
              "                                     'management_group', 'payment',\n",
              "                                     'water_quality', 'quality_group',\n",
              "                                     'quantity', 'source', 'source_type',\n",
              "                                     'source_class', 'waterpoint_type'],\n",
              "                               drop_invariant=False, handle_missing='value',\n",
              "                               hand...\n",
              "                 StandardScaler(copy=True, with_mean=True, with_std=True)),\n",
              "                ('decisiontreeclassifier',\n",
              "                 DecisionTreeClassifier(class_weight=None, criterion='gini',\n",
              "                                        max_depth=None, max_features=None,\n",
              "                                        max_leaf_nodes=None,\n",
              "                                        min_impurity_decrease=0.0,\n",
              "                                        min_impurity_split=None,\n",
              "                                        min_samples_leaf=1, min_samples_split=2,\n",
              "                                        min_weight_fraction_leaf=0.0,\n",
              "                                        presort=False, random_state=42,\n",
              "                                        splitter='best'))],\n",
              "         verbose=False)"
            ]
          },
          "metadata": {
            "tags": []
          },
          "execution_count": 75
        }
      ]
    },
    {
      "cell_type": "markdown",
      "metadata": {
        "id": "hW9OHnmbCJZ7",
        "colab_type": "text"
      },
      "source": [
        "**Get your validation accuracy score.**"
      ]
    },
    {
      "cell_type": "code",
      "metadata": {
        "id": "kLRb3fTW7uaE",
        "colab_type": "code",
        "colab": {
          "base_uri": "https://localhost:8080/",
          "height": 51
        },
        "outputId": "4e69f3cd-e6be-49b9-f111-092203c7df01"
      },
      "source": [
        "print('Train Accuracy', decision_tree.score(X_train, y_train))\n",
        "print('Validation Accuracy', decision_tree.score(X_validate, y_validate))"
      ],
      "execution_count": 76,
      "outputs": [
        {
          "output_type": "stream",
          "text": [
            "Train Accuracy 0.9954755892255892\n",
            "Validation Accuracy 0.7577441077441077\n"
          ],
          "name": "stdout"
        }
      ]
    },
    {
      "cell_type": "code",
      "metadata": {
        "id": "gxd06896WOWB",
        "colab_type": "code",
        "colab": {}
      },
      "source": [
        ""
      ],
      "execution_count": 0,
      "outputs": []
    },
    {
      "cell_type": "code",
      "metadata": {
        "id": "K-oWxxcFWgnN",
        "colab_type": "code",
        "colab": {}
      },
      "source": [
        ""
      ],
      "execution_count": 0,
      "outputs": []
    },
    {
      "cell_type": "code",
      "metadata": {
        "id": "k_0Ak61pWtVF",
        "colab_type": "code",
        "colab": {}
      },
      "source": [
        ""
      ],
      "execution_count": 0,
      "outputs": []
    },
    {
      "cell_type": "markdown",
      "metadata": {
        "id": "S7i5HbxhCPGy",
        "colab_type": "text"
      },
      "source": [
        "**Get and plot your feature importances.**"
      ]
    },
    {
      "cell_type": "code",
      "metadata": {
        "id": "2NSl6Lfz8Pg0",
        "colab_type": "code",
        "colab": {
          "base_uri": "https://localhost:8080/",
          "height": 340
        },
        "outputId": "112969ad-97be-4343-d504-10e498484eb7"
      },
      "source": [
        "decision_tree.named_steps"
      ],
      "execution_count": 52,
      "outputs": [
        {
          "output_type": "execute_result",
          "data": {
            "text/plain": [
              "{'decisiontreeclassifier': DecisionTreeClassifier(class_weight=None, criterion='gini', max_depth=None,\n",
              "                        max_features=None, max_leaf_nodes=None,\n",
              "                        min_impurity_decrease=0.0, min_impurity_split=None,\n",
              "                        min_samples_leaf=1, min_samples_split=2,\n",
              "                        min_weight_fraction_leaf=0.0, presort=False,\n",
              "                        random_state=42, splitter='best'),\n",
              " 'onehotencoder': OneHotEncoder(cols=['basin', 'region', 'public_meeting', 'recorded_by',\n",
              "                     'scheme_management', 'permit', 'extraction_type',\n",
              "                     'extraction_type_group', 'extraction_type_class',\n",
              "                     'management', 'management_group', 'payment', 'payment_type',\n",
              "                     'water_quality', 'quality_group', 'quantity', 'source',\n",
              "                     'source_type', 'source_class', 'waterpoint_type',\n",
              "                     'waterpoint_type_group'],\n",
              "               drop_invariant=False, handle_missing='value',\n",
              "               handle_unknown='value', return_df=True, use_cat_names=True,\n",
              "               verbose=0),\n",
              " 'simpleimputer': SimpleImputer(add_indicator=False, copy=True, fill_value=None,\n",
              "               missing_values=nan, strategy='mean', verbose=0),\n",
              " 'standardscaler': StandardScaler(copy=True, with_mean=True, with_std=True)}"
            ]
          },
          "metadata": {
            "tags": []
          },
          "execution_count": 52
        }
      ]
    },
    {
      "cell_type": "code",
      "metadata": {
        "id": "89sn3at_C0Hf",
        "colab_type": "code",
        "colab": {}
      },
      "source": [
        "model = decision_tree.named_steps['decisiontreeclassifier']"
      ],
      "execution_count": 0,
      "outputs": []
    },
    {
      "cell_type": "code",
      "metadata": {
        "id": "pPped9xVC_AG",
        "colab_type": "code",
        "colab": {
          "base_uri": "https://localhost:8080/",
          "height": 799
        },
        "outputId": "42912970-6bad-45e8-a466-daa0cc529366"
      },
      "source": [
        "model.feature_importances_"
      ],
      "execution_count": 58,
      "outputs": [
        {
          "output_type": "execute_result",
          "data": {
            "text/plain": [
              "array([2.82286870e-02, 6.81635964e-02, 1.70272323e-01, 1.64761560e-01,\n",
              "       1.23938735e-03, 1.14321450e-02, 1.66783294e-02, 4.50991994e-02,\n",
              "       2.23265488e-02, 3.92290516e-02, 1.30824524e-03, 2.08940196e-03,\n",
              "       1.77337073e-03, 5.13807885e-04, 1.23451886e-03, 7.76660708e-04,\n",
              "       1.30970001e-03, 3.80955645e-03, 2.57077715e-04, 5.41373140e-04,\n",
              "       2.48619792e-04, 4.98300693e-04, 2.53832002e-04, 1.43286601e-03,\n",
              "       1.18307275e-05, 3.47704521e-04, 2.22332726e-03, 2.28467585e-04,\n",
              "       8.82142310e-04, 1.09265900e-04, 7.98067857e-04, 4.35449518e-04,\n",
              "       0.00000000e+00, 3.50142282e-03, 4.50947744e-03, 8.29058561e-05,\n",
              "       1.34503425e-03, 6.13481366e-04, 3.72768347e-04, 1.10827315e-04,\n",
              "       3.34735093e-03, 3.17598269e-03, 4.61158497e-03, 0.00000000e+00,\n",
              "       3.19671959e-03, 1.32273918e-03, 3.10171399e-03, 2.07072862e-03,\n",
              "       5.09357705e-04, 7.26354651e-04, 2.24661914e-04, 1.90800490e-03,\n",
              "       7.24372495e-04, 3.30103649e-04, 3.17765446e-04, 0.00000000e+00,\n",
              "       0.00000000e+00, 1.89257976e-03, 4.93620011e-03, 2.68956122e-03,\n",
              "       4.22925849e-03, 1.06899223e-03, 1.27979551e-03, 1.14267461e-03,\n",
              "       1.89680165e-03, 1.63745545e-03, 3.06297131e-03, 2.24855738e-03,\n",
              "       3.54189423e-04, 1.42108455e-03, 2.13585318e-04, 0.00000000e+00,\n",
              "       1.21167863e-04, 0.00000000e+00, 6.41977460e-05, 1.43663128e-04,\n",
              "       0.00000000e+00, 0.00000000e+00, 2.35944357e-03, 1.50607065e-03,\n",
              "       1.32650963e-03, 7.76884319e-04, 1.90690922e-03, 6.50223448e-04,\n",
              "       2.70745575e-03, 5.57413244e-04, 8.49816772e-04, 4.66488597e-04,\n",
              "       1.40855996e-04, 1.11641951e-04, 3.22754306e-04, 1.31997210e-03,\n",
              "       3.05739979e-03, 4.64753477e-03, 1.59701935e-03, 1.65382510e-03,\n",
              "       3.20988730e-05, 0.00000000e+00, 2.64106652e-03, 1.56092088e-03,\n",
              "       2.52463322e-04, 5.47173629e-04, 2.04293260e-03, 4.56564631e-03,\n",
              "       2.24822766e-04, 1.00302243e-03, 2.65660586e-03, 7.40807675e-04,\n",
              "       4.33709967e-05, 2.46245385e-04, 2.37032304e-03, 1.54134876e-03,\n",
              "       7.56279132e-04, 3.50769583e-04, 4.05752126e-04, 2.19476982e-03,\n",
              "       3.41674903e-03, 2.11860855e-03, 2.54893123e-03, 8.00615001e-04,\n",
              "       1.12917796e-03, 2.97379624e-04, 2.40069592e-03, 8.71398066e-04,\n",
              "       1.31411371e-03, 8.70073892e-04, 1.10040801e-03, 1.38409254e-03,\n",
              "       4.27860874e-04, 2.05362143e-03, 1.33288116e-03, 1.35100254e-04,\n",
              "       3.87161202e-04, 9.36707048e-04, 4.53899512e-04, 4.68321173e-04,\n",
              "       1.02741876e-04, 1.92947442e-03, 1.61040806e-03, 2.48795876e-04,\n",
              "       1.82422448e-03, 2.30603083e-03, 9.16975827e-04, 8.02364161e-03,\n",
              "       5.97208297e-03, 1.29443448e-01, 2.94901570e-03, 1.50073325e-03,\n",
              "       1.04098223e-03, 1.65022087e-03, 2.46595337e-03, 8.97110001e-04,\n",
              "       1.00939306e-03, 1.60764791e-03, 1.18505629e-03, 4.00372477e-04,\n",
              "       1.51820201e-04, 0.00000000e+00, 4.53893104e-03, 1.56487013e-03,\n",
              "       1.20783467e-03, 1.63303242e-03, 4.34973321e-04, 5.74485499e-04,\n",
              "       5.13581968e-05, 4.35715706e-03, 1.36540905e-03, 1.14880294e-04,\n",
              "       1.17400762e-03, 5.10610208e-04, 7.05462851e-02, 1.33503071e-02,\n",
              "       6.24461278e-04, 0.00000000e+00, 5.13581968e-05, 1.37017599e-03,\n",
              "       1.03404265e-03, 3.64913504e-05, 5.26956238e-04, 9.33007242e-05,\n",
              "       0.00000000e+00])"
            ]
          },
          "metadata": {
            "tags": []
          },
          "execution_count": 58
        }
      ]
    },
    {
      "cell_type": "code",
      "metadata": {
        "id": "s4Tb-4wm_4AH",
        "colab_type": "code",
        "colab": {
          "base_uri": "https://localhost:8080/",
          "height": 1000
        },
        "outputId": "d44e39d3-b14b-4af1-9dc1-06f7d14afc83"
      },
      "source": [
        "%matplotlib inline\n",
        "import matplotlib.pyplot as plt\n",
        "encoder = decision_tree.named_steps['onehotencoder']\n",
        "encoded_columns = encoder.fit_transform(X_train).columns\n",
        "importances = pd.Series(model.feature_importances_, encoded_columns)\n",
        "plt.figure(figsize=(10,30))\n",
        "importances.sort_values().plot.barh();"
      ],
      "execution_count": 78,
      "outputs": [
        {
          "output_type": "display_data",
          "data": {
            "image/png": "[encoded data removed]",
            "text/plain": [
              "<Figure size 720x2160 with 1 Axes>"
            ]
          },
          "metadata": {
            "tags": []
          }
        }
      ]
    },
    {
      "cell_type": "code",
      "metadata": {
        "id": "FN59n7xhCrb2",
        "colab_type": "code",
        "colab": {
          "base_uri": "https://localhost:8080/",
          "height": 1000
        },
        "outputId": "7aa12c6d-bcf3-4a17-eaf0-948bde7309cf"
      },
      "source": [
        "sorted(X_train.pump_age.unique())"
      ],
      "execution_count": 87,
      "outputs": [
        {
          "output_type": "execute_result",
          "data": {
            "text/plain": [
              "[nan,\n",
              " -7.0,\n",
              " -5.0,\n",
              " -4.0,\n",
              " -3.0,\n",
              " -2.0,\n",
              " -1.0,\n",
              " 0.0,\n",
              " 1.0,\n",
              " 2.0,\n",
              " 3.0,\n",
              " 4.0,\n",
              " 5.0,\n",
              " 6.0,\n",
              " 7.0,\n",
              " 8.0,\n",
              " 9.0,\n",
              " 10.0,\n",
              " 11.0,\n",
              " 12.0,\n",
              " 13.0,\n",
              " 14.0,\n",
              " 15.0,\n",
              " 16.0,\n",
              " 17.0,\n",
              " 18.0,\n",
              " 19.0,\n",
              " 20.0,\n",
              " 21.0,\n",
              " 22.0,\n",
              " 23.0,\n",
              " 24.0,\n",
              " 25.0,\n",
              " 26.0,\n",
              " 27.0,\n",
              " 28.0,\n",
              " 29.0,\n",
              " 30.0,\n",
              " 31.0,\n",
              " 32.0,\n",
              " 33.0,\n",
              " 34.0,\n",
              " 35.0,\n",
              " 36.0,\n",
              " 37.0,\n",
              " 38.0,\n",
              " 39.0,\n",
              " 40.0,\n",
              " 41.0,\n",
              " 42.0,\n",
              " 43.0,\n",
              " 44.0,\n",
              " 45.0,\n",
              " 46.0,\n",
              " 47.0,\n",
              " 48.0,\n",
              " 49.0,\n",
              " 50.0,\n",
              " 51.0,\n",
              " 52.0,\n",
              " 53.0]"
            ]
          },
          "metadata": {
            "tags": []
          },
          "execution_count": 87
        }
      ]
    },
    {
      "cell_type": "code",
      "metadata": {
        "id": "A7tUTQYrT49E",
        "colab_type": "code",
        "colab": {
          "base_uri": "https://localhost:8080/",
          "height": 654
        },
        "outputId": "3b7fb91c-1873-423c-a9d2-49f5b095e4f0"
      },
      "source": [
        "train.query('pump_age < 0')"
      ],
      "execution_count": 90,
      "outputs": [
        {
          "output_type": "execute_result",
          "data": {
            "text/html": [
              "<div>\n",
              "<style scoped>\n",
              "    .dataframe tbody tr th:only-of-type {\n",
              "        vertical-align: middle;\n",
              "    }\n",
              "\n",
              "    .dataframe tbody tr th {\n",
              "        vertical-align: top;\n",
              "    }\n",
              "\n",
              "    .dataframe thead th {\n",
              "        text-align: right;\n",
              "    }\n",
              "</style>\n",
              "<table border=\"1\" class=\"dataframe\">\n",
              "  <thead>\n",
              "    <tr style=\"text-align: right;\">\n",
              "      <th></th>\n",
              "      <th>id</th>\n",
              "      <th>amount_tsh</th>\n",
              "      <th>date_recorded</th>\n",
              "      <th>funder</th>\n",
              "      <th>gps_height</th>\n",
              "      <th>longitude</th>\n",
              "      <th>latitude</th>\n",
              "      <th>wpt_name</th>\n",
              "      <th>num_private</th>\n",
              "      <th>basin</th>\n",
              "      <th>subvillage</th>\n",
              "      <th>region</th>\n",
              "      <th>region_code</th>\n",
              "      <th>district_code</th>\n",
              "      <th>lga</th>\n",
              "      <th>ward</th>\n",
              "      <th>population</th>\n",
              "      <th>public_meeting</th>\n",
              "      <th>recorded_by</th>\n",
              "      <th>scheme_management</th>\n",
              "      <th>scheme_name</th>\n",
              "      <th>permit</th>\n",
              "      <th>construction_year</th>\n",
              "      <th>extraction_type</th>\n",
              "      <th>management</th>\n",
              "      <th>management_group</th>\n",
              "      <th>payment</th>\n",
              "      <th>water_quality</th>\n",
              "      <th>quality_group</th>\n",
              "      <th>quantity</th>\n",
              "      <th>source</th>\n",
              "      <th>source_type</th>\n",
              "      <th>source_class</th>\n",
              "      <th>waterpoint_type</th>\n",
              "      <th>status_group</th>\n",
              "      <th>pump_age</th>\n",
              "    </tr>\n",
              "  </thead>\n",
              "  <tbody>\n",
              "    <tr>\n",
              "      <th>27501</th>\n",
              "      <td>53086</td>\n",
              "      <td>500.0</td>\n",
              "      <td>2004-01-07</td>\n",
              "      <td>Kkkt</td>\n",
              "      <td>1611</td>\n",
              "      <td>34.900561</td>\n",
              "      <td>-8.873813</td>\n",
              "      <td>Kwa Barnabasi Kilumile</td>\n",
              "      <td>0</td>\n",
              "      <td>Rufiji</td>\n",
              "      <td>Mlowa</td>\n",
              "      <td>Iringa</td>\n",
              "      <td>11</td>\n",
              "      <td>4.0</td>\n",
              "      <td>Njombe</td>\n",
              "      <td>Makambako</td>\n",
              "      <td>65</td>\n",
              "      <td>True</td>\n",
              "      <td>GeoData Consultants Ltd</td>\n",
              "      <td>VWC</td>\n",
              "      <td>NaN</td>\n",
              "      <td>False</td>\n",
              "      <td>2009.0</td>\n",
              "      <td>nira/tanira</td>\n",
              "      <td>vwc</td>\n",
              "      <td>user-group</td>\n",
              "      <td>pay when scheme fails</td>\n",
              "      <td>soft</td>\n",
              "      <td>good</td>\n",
              "      <td>enough</td>\n",
              "      <td>hand dtw</td>\n",
              "      <td>borehole</td>\n",
              "      <td>groundwater</td>\n",
              "      <td>hand pump</td>\n",
              "      <td>functional</td>\n",
              "      <td>-5.0</td>\n",
              "    </tr>\n",
              "    <tr>\n",
              "      <th>39559</th>\n",
              "      <td>15921</td>\n",
              "      <td>0.0</td>\n",
              "      <td>2004-03-06</td>\n",
              "      <td>Tasafu</td>\n",
              "      <td>301</td>\n",
              "      <td>38.558421</td>\n",
              "      <td>-5.140405</td>\n",
              "      <td>Shuleni</td>\n",
              "      <td>0</td>\n",
              "      <td>Pangani</td>\n",
              "      <td>Kiwanjani</td>\n",
              "      <td>Tanga</td>\n",
              "      <td>4</td>\n",
              "      <td>2.0</td>\n",
              "      <td>Korogwe</td>\n",
              "      <td>Kwagunda</td>\n",
              "      <td>713</td>\n",
              "      <td>True</td>\n",
              "      <td>GeoData Consultants Ltd</td>\n",
              "      <td>VWC</td>\n",
              "      <td>NaN</td>\n",
              "      <td>False</td>\n",
              "      <td>2009.0</td>\n",
              "      <td>other</td>\n",
              "      <td>vwc</td>\n",
              "      <td>user-group</td>\n",
              "      <td>never pay</td>\n",
              "      <td>soft</td>\n",
              "      <td>good</td>\n",
              "      <td>dry</td>\n",
              "      <td>shallow well</td>\n",
              "      <td>shallow well</td>\n",
              "      <td>groundwater</td>\n",
              "      <td>other</td>\n",
              "      <td>non functional</td>\n",
              "      <td>-5.0</td>\n",
              "    </tr>\n",
              "    <tr>\n",
              "      <th>8729</th>\n",
              "      <td>20198</td>\n",
              "      <td>0.0</td>\n",
              "      <td>2004-05-01</td>\n",
              "      <td>Government Of Tanzania</td>\n",
              "      <td>86</td>\n",
              "      <td>38.959776</td>\n",
              "      <td>-5.247278</td>\n",
              "      <td>Kwa Bi Shoga</td>\n",
              "      <td>0</td>\n",
              "      <td>Pangani</td>\n",
              "      <td>Mapojoni Kati</td>\n",
              "      <td>Tanga</td>\n",
              "      <td>4</td>\n",
              "      <td>4.0</td>\n",
              "      <td>Muheza</td>\n",
              "      <td>Ngomeni</td>\n",
              "      <td>120</td>\n",
              "      <td>True</td>\n",
              "      <td>GeoData Consultants Ltd</td>\n",
              "      <td>VWC</td>\n",
              "      <td>Borehole</td>\n",
              "      <td>True</td>\n",
              "      <td>2008.0</td>\n",
              "      <td>india mark ii</td>\n",
              "      <td>vwc</td>\n",
              "      <td>user-group</td>\n",
              "      <td>never pay</td>\n",
              "      <td>salty abandoned</td>\n",
              "      <td>salty</td>\n",
              "      <td>dry</td>\n",
              "      <td>shallow well</td>\n",
              "      <td>shallow well</td>\n",
              "      <td>groundwater</td>\n",
              "      <td>hand pump</td>\n",
              "      <td>non functional</td>\n",
              "      <td>-4.0</td>\n",
              "    </tr>\n",
              "    <tr>\n",
              "      <th>33942</th>\n",
              "      <td>5971</td>\n",
              "      <td>0.0</td>\n",
              "      <td>2004-03-01</td>\n",
              "      <td>Amref</td>\n",
              "      <td>-27</td>\n",
              "      <td>39.283105</td>\n",
              "      <td>-7.422852</td>\n",
              "      <td>Kwa Ndevu</td>\n",
              "      <td>0</td>\n",
              "      <td>Rufiji</td>\n",
              "      <td>Gundani</td>\n",
              "      <td>Pwani</td>\n",
              "      <td>6</td>\n",
              "      <td>4.0</td>\n",
              "      <td>Mkuranga</td>\n",
              "      <td>Magawa</td>\n",
              "      <td>200</td>\n",
              "      <td>True</td>\n",
              "      <td>GeoData Consultants Ltd</td>\n",
              "      <td>VWC</td>\n",
              "      <td>NaN</td>\n",
              "      <td>False</td>\n",
              "      <td>2007.0</td>\n",
              "      <td>swn 80</td>\n",
              "      <td>vwc</td>\n",
              "      <td>user-group</td>\n",
              "      <td>never pay</td>\n",
              "      <td>soft</td>\n",
              "      <td>good</td>\n",
              "      <td>seasonal</td>\n",
              "      <td>shallow well</td>\n",
              "      <td>shallow well</td>\n",
              "      <td>groundwater</td>\n",
              "      <td>hand pump</td>\n",
              "      <td>non functional</td>\n",
              "      <td>-3.0</td>\n",
              "    </tr>\n",
              "    <tr>\n",
              "      <th>23373</th>\n",
              "      <td>20534</td>\n",
              "      <td>50.0</td>\n",
              "      <td>2004-03-01</td>\n",
              "      <td>Tasaf And Lga</td>\n",
              "      <td>239</td>\n",
              "      <td>39.272736</td>\n",
              "      <td>-11.019000</td>\n",
              "      <td>Juhudi</td>\n",
              "      <td>0</td>\n",
              "      <td>Ruvuma / Southern Coast</td>\n",
              "      <td>Mwanona</td>\n",
              "      <td>Mtwara</td>\n",
              "      <td>90</td>\n",
              "      <td>33.0</td>\n",
              "      <td>Newala</td>\n",
              "      <td>Luchingu</td>\n",
              "      <td>317</td>\n",
              "      <td>True</td>\n",
              "      <td>GeoData Consultants Ltd</td>\n",
              "      <td>VWC</td>\n",
              "      <td>Mwanona</td>\n",
              "      <td>False</td>\n",
              "      <td>2009.0</td>\n",
              "      <td>gravity</td>\n",
              "      <td>vwc</td>\n",
              "      <td>user-group</td>\n",
              "      <td>pay per bucket</td>\n",
              "      <td>soft</td>\n",
              "      <td>good</td>\n",
              "      <td>enough</td>\n",
              "      <td>spring</td>\n",
              "      <td>spring</td>\n",
              "      <td>groundwater</td>\n",
              "      <td>communal standpipe multiple</td>\n",
              "      <td>functional</td>\n",
              "      <td>-5.0</td>\n",
              "    </tr>\n",
              "    <tr>\n",
              "      <th>13366</th>\n",
              "      <td>48759</td>\n",
              "      <td>100.0</td>\n",
              "      <td>2004-06-01</td>\n",
              "      <td>Mgaya</td>\n",
              "      <td>1331</td>\n",
              "      <td>34.290885</td>\n",
              "      <td>-1.699609</td>\n",
              "      <td>Maro Mgaya</td>\n",
              "      <td>0</td>\n",
              "      <td>Lake Victoria</td>\n",
              "      <td>Kibaoni</td>\n",
              "      <td>Mara</td>\n",
              "      <td>20</td>\n",
              "      <td>2.0</td>\n",
              "      <td>Serengeti</td>\n",
              "      <td>Kenyamonta</td>\n",
              "      <td>80</td>\n",
              "      <td>NaN</td>\n",
              "      <td>GeoData Consultants Ltd</td>\n",
              "      <td>Other</td>\n",
              "      <td>NaN</td>\n",
              "      <td>True</td>\n",
              "      <td>2011.0</td>\n",
              "      <td>other - rope pump</td>\n",
              "      <td>other</td>\n",
              "      <td>other</td>\n",
              "      <td>pay per bucket</td>\n",
              "      <td>soft</td>\n",
              "      <td>good</td>\n",
              "      <td>enough</td>\n",
              "      <td>shallow well</td>\n",
              "      <td>shallow well</td>\n",
              "      <td>groundwater</td>\n",
              "      <td>hand pump</td>\n",
              "      <td>functional</td>\n",
              "      <td>-7.0</td>\n",
              "    </tr>\n",
              "    <tr>\n",
              "      <th>48555</th>\n",
              "      <td>1251</td>\n",
              "      <td>0.0</td>\n",
              "      <td>2004-12-01</td>\n",
              "      <td>African 2000 Network</td>\n",
              "      <td>284</td>\n",
              "      <td>38.929212</td>\n",
              "      <td>-7.111349</td>\n",
              "      <td>Kauzeni Primary School 2</td>\n",
              "      <td>0</td>\n",
              "      <td>Wami / Ruvu</td>\n",
              "      <td>Kauzeni Chini</td>\n",
              "      <td>Pwani</td>\n",
              "      <td>60</td>\n",
              "      <td>33.0</td>\n",
              "      <td>Kisarawe</td>\n",
              "      <td>Kibuta</td>\n",
              "      <td>185</td>\n",
              "      <td>True</td>\n",
              "      <td>GeoData Consultants Ltd</td>\n",
              "      <td>Private operator</td>\n",
              "      <td>NaN</td>\n",
              "      <td>False</td>\n",
              "      <td>2008.0</td>\n",
              "      <td>gravity</td>\n",
              "      <td>private operator</td>\n",
              "      <td>commercial</td>\n",
              "      <td>never pay</td>\n",
              "      <td>soft</td>\n",
              "      <td>good</td>\n",
              "      <td>enough</td>\n",
              "      <td>rainwater harvesting</td>\n",
              "      <td>rainwater harvesting</td>\n",
              "      <td>surface</td>\n",
              "      <td>communal standpipe</td>\n",
              "      <td>functional</td>\n",
              "      <td>-4.0</td>\n",
              "    </tr>\n",
              "    <tr>\n",
              "      <th>10441</th>\n",
              "      <td>55069</td>\n",
              "      <td>20.0</td>\n",
              "      <td>2004-12-01</td>\n",
              "      <td>Plan Int</td>\n",
              "      <td>307</td>\n",
              "      <td>38.768656</td>\n",
              "      <td>-7.298419</td>\n",
              "      <td>Mianzi Primary School</td>\n",
              "      <td>0</td>\n",
              "      <td>Rufiji</td>\n",
              "      <td>Momboni</td>\n",
              "      <td>Pwani</td>\n",
              "      <td>60</td>\n",
              "      <td>33.0</td>\n",
              "      <td>Kisarawe</td>\n",
              "      <td>Msanga</td>\n",
              "      <td>1</td>\n",
              "      <td>True</td>\n",
              "      <td>GeoData Consultants Ltd</td>\n",
              "      <td>VWC</td>\n",
              "      <td>NaN</td>\n",
              "      <td>False</td>\n",
              "      <td>2006.0</td>\n",
              "      <td>india mark iii</td>\n",
              "      <td>vwc</td>\n",
              "      <td>user-group</td>\n",
              "      <td>pay per bucket</td>\n",
              "      <td>soft</td>\n",
              "      <td>good</td>\n",
              "      <td>enough</td>\n",
              "      <td>spring</td>\n",
              "      <td>spring</td>\n",
              "      <td>groundwater</td>\n",
              "      <td>hand pump</td>\n",
              "      <td>non functional</td>\n",
              "      <td>-2.0</td>\n",
              "    </tr>\n",
              "    <tr>\n",
              "      <th>32619</th>\n",
              "      <td>9195</td>\n",
              "      <td>0.0</td>\n",
              "      <td>2004-03-01</td>\n",
              "      <td>Caltus</td>\n",
              "      <td>1856</td>\n",
              "      <td>31.539761</td>\n",
              "      <td>-7.983106</td>\n",
              "      <td>Kwa Pambajila</td>\n",
              "      <td>0</td>\n",
              "      <td>Lake Tanganyika</td>\n",
              "      <td>Magomeni</td>\n",
              "      <td>Rukwa</td>\n",
              "      <td>15</td>\n",
              "      <td>4.0</td>\n",
              "      <td>Sumbawanga Urban</td>\n",
              "      <td>Kasense</td>\n",
              "      <td>900</td>\n",
              "      <td>True</td>\n",
              "      <td>GeoData Consultants Ltd</td>\n",
              "      <td>VWC</td>\n",
              "      <td>Mradi wa maji wa kasen</td>\n",
              "      <td>True</td>\n",
              "      <td>2005.0</td>\n",
              "      <td>gravity</td>\n",
              "      <td>vwc</td>\n",
              "      <td>user-group</td>\n",
              "      <td>never pay</td>\n",
              "      <td>soft</td>\n",
              "      <td>good</td>\n",
              "      <td>dry</td>\n",
              "      <td>spring</td>\n",
              "      <td>spring</td>\n",
              "      <td>groundwater</td>\n",
              "      <td>communal standpipe</td>\n",
              "      <td>non functional</td>\n",
              "      <td>-1.0</td>\n",
              "    </tr>\n",
              "  </tbody>\n",
              "</table>\n",
              "</div>"
            ],
            "text/plain": [
              "          id  amount_tsh  ...    status_group pump_age\n",
              "27501  53086       500.0  ...      functional     -5.0\n",
              "39559  15921         0.0  ...  non functional     -5.0\n",
              "8729   20198         0.0  ...  non functional     -4.0\n",
              "33942   5971         0.0  ...  non functional     -3.0\n",
              "23373  20534        50.0  ...      functional     -5.0\n",
              "13366  48759       100.0  ...      functional     -7.0\n",
              "48555   1251         0.0  ...      functional     -4.0\n",
              "10441  55069        20.0  ...  non functional     -2.0\n",
              "32619   9195         0.0  ...  non functional     -1.0\n",
              "\n",
              "[9 rows x 36 columns]"
            ]
          },
          "metadata": {
            "tags": []
          },
          "execution_count": 90
        }
      ]
    },
    {
      "cell_type": "code",
      "metadata": {
        "id": "RF_hvrIxxays",
        "colab_type": "code",
        "colab": {
          "base_uri": "https://localhost:8080/",
          "height": 153
        },
        "outputId": "c4da656c-2fb7-42c6-d82c-1b8332231f7e"
      },
      "source": [
        "X_train.waterpoint_type.value_counts(dropna=False)"
      ],
      "execution_count": 97,
      "outputs": [
        {
          "output_type": "execute_result",
          "data": {
            "text/plain": [
              "communal standpipe             22778\n",
              "hand pump                      14015\n",
              "other                           5138\n",
              "communal standpipe multiple     4864\n",
              "improved spring                  631\n",
              "cattle trough                     89\n",
              "dam                                5\n",
              "Name: waterpoint_type, dtype: int64"
            ]
          },
          "metadata": {
            "tags": []
          },
          "execution_count": 97
        }
      ]
    },
    {
      "cell_type": "code",
      "metadata": {
        "id": "8_ec0ypByIiN",
        "colab_type": "code",
        "colab": {
          "base_uri": "https://localhost:8080/",
          "height": 1000
        },
        "outputId": "9895da26-9eee-4039-dea4-b37a845601c9"
      },
      "source": [
        "X_train.gps_height.value_counts(dropna=False)"
      ],
      "execution_count": 98,
      "outputs": [
        {
          "output_type": "execute_result",
          "data": {
            "text/plain": [
              " 0       16305\n",
              "-15         48\n",
              " 1290       45\n",
              "-20         43\n",
              "-14         43\n",
              "-16         42\n",
              "-13         42\n",
              "-18         40\n",
              " 280        39\n",
              " 1269       37\n",
              " 320        37\n",
              " 1304       37\n",
              " 1538       37\n",
              " 303        36\n",
              " 1295       36\n",
              " 1303       36\n",
              " 1264       36\n",
              "-8          36\n",
              " 338        36\n",
              " 1286       36\n",
              " 1359       35\n",
              " 1342       35\n",
              " 1240       35\n",
              " 1613       35\n",
              " 1335       35\n",
              " 1319       35\n",
              " 1602       35\n",
              " 1401       35\n",
              " 1288       35\n",
              "-27         34\n",
              "         ...  \n",
              " 2292        1\n",
              " 2388        1\n",
              " 2420        1\n",
              " 2484        1\n",
              " 2295        1\n",
              " 2417        1\n",
              " 2385        1\n",
              " 2353        1\n",
              " 2319        1\n",
              " 2285        1\n",
              " 2413        1\n",
              " 2509        1\n",
              " 2220        1\n",
              " 621         1\n",
              " 653         1\n",
              " 2159        1\n",
              " 2255        1\n",
              " 2287        1\n",
              " 2351        1\n",
              " 2321        1\n",
              " 622         1\n",
              " 1998        1\n",
              " 2126        1\n",
              " 2254        1\n",
              " 2286        1\n",
              " 2318        1\n",
              " 591         1\n",
              " 2193        1\n",
              " 2289        1\n",
              " 2031        1\n",
              "Name: gps_height, Length: 2401, dtype: int64"
            ]
          },
          "metadata": {
            "tags": []
          },
          "execution_count": 98
        }
      ]
    },
    {
      "cell_type": "markdown",
      "metadata": {
        "id": "-xobgi47ekZ4",
        "colab_type": "text"
      },
      "source": [
        "## Assignment\n",
        "- [ ] Do train/validate/test split with the Tanzania Waterpumps data.\n",
        "- [ ] Define a function to wrangle train, validate, and test sets in the same way. Clean outliers and engineer features. (For example, [what other columns have zeros and shouldn't?](https://github.com/Quartz/bad-data-guide#zeros-replace-missing-values) What other columns are duplicates, or nearly duplicates? Can you extract the year from date_recorded? Can you engineer new features, such as the number of years from waterpump construction to waterpump inspection?)\n",
        "- [ ] Select features. Use a scikit-learn pipeline to encode categoricals, impute missing values, and fit a decision tree classifier.\n",
        "- [ ] Get your validation accuracy score.\n",
        "- [ ] Get and plot your feature importances.\n",
        "- [ ] Submit your predictions to our Kaggle competition. (Go to our Kaggle InClass competition webpage. Use the blue **Submit Predictions** button to upload your CSV file. Or you can use the Kaggle API to submit your predictions.)\n",
        "- [ ] Commit your notebook to your fork of the GitHub repo.\n"
      ]
    },
    {
      "cell_type": "markdown",
      "metadata": {
        "id": "dW1ra611XZQs",
        "colab_type": "text"
      },
      "source": [
        "**Submit your predictions to our Kaggle competition.**"
      ]
    },
    {
      "cell_type": "code",
      "metadata": {
        "id": "iuDCqh0gUqNS",
        "colab_type": "code",
        "colab": {}
      },
      "source": [
        "test_pred = decision_tree.predict(X_test)\n",
        "submission = sample_submission.copy()\n",
        "submission['status_group'] = test_pred\n",
        "submission.to_csv('submission-02.csv', index=False)"
      ],
      "execution_count": 0,
      "outputs": []
    }
  ]
}